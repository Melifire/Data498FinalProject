{
 "cells": [
  {
   "cell_type": "markdown",
   "metadata": {},
   "source": [
    "# Setup"
   ]
  },
  {
   "cell_type": "code",
   "execution_count": 3,
   "metadata": {},
   "outputs": [],
   "source": [
    "import os\n",
    "import numpy as np\n",
    "import keras\n",
    "from keras import layers\n",
    "from tensorflow import data as tf_data\n",
    "import matplotlib.pyplot as plt         "
   ]
  },
  {
   "cell_type": "code",
   "execution_count": 22,
   "metadata": {},
   "outputs": [
    {
     "name": "stdout",
     "output_type": "stream",
     "text": [
      "Found 1944 files belonging to 15 classes.\n",
      "Using 1167 files for training.\n",
      "Using 777 files for validation.\n",
      "<_PrefetchDataset element_spec=(TensorSpec(shape=(None, 224, 224, 3), dtype=tf.float32, name=None), TensorSpec(shape=(None, 15), dtype=tf.float32, name=None))>\n"
     ]
    }
   ],
   "source": [
    "image_size = (224, 224)\n",
    "\n",
    "# Data Collection\n",
    "np.random.seed(0)\n",
    "train_ds, test_ds = keras.utils.image_dataset_from_directory(\n",
    "    \"../animal_data\",\n",
    "    validation_split = .4,\n",
    "    subset=\"both\",\n",
    "    seed=0,\n",
    "    image_size=image_size,\n",
    "    labels=\"inferred\",\n",
    "    label_mode=\"categorical\"\n",
    ")\n",
    "\n",
    "print(train_ds)"
   ]
  },
  {
   "cell_type": "code",
   "execution_count": 23,
   "metadata": {},
   "outputs": [],
   "source": [
    "num_class = 15\n",
    "\n",
    "input_layer = keras.Input((224,224,3))\n",
    "x = layers.Rescaling(1.0 / 255)(input_layer)\n",
    "x = layers.Conv2D(32, 4, 2)(x)\n",
    "x = layers.MaxPooling2D(3, 2)(x)\n",
    "x = layers.Conv2D(32, 4, 2)(x)\n",
    "x = layers.MaxPooling2D(3, 2)(x)\n",
    "x = layers.Flatten()(x)\n",
    "x = layers.Dense(128)(x)\n",
    "x = layers.Dense(32)(x)\n",
    "\n",
    "output_layer = layers.Dense(num_class, activation=\"softmax\")(x)\n",
    "\n",
    "model = keras.Model(input_layer, output_layer)"
   ]
  },
  {
   "cell_type": "code",
   "execution_count": 24,
   "metadata": {},
   "outputs": [
    {
     "name": "stdout",
     "output_type": "stream",
     "text": [
      "Epoch 1/25\n",
      "37/37 [==============================] - 23s 409ms/step - loss: 0.2821 - acc: 0.9346 - val_loss: 0.2132 - val_acc: 0.9382\n",
      "Epoch 2/25\n",
      "37/37 [==============================] - 11s 303ms/step - loss: 0.2035 - acc: 0.9383 - val_loss: 0.2000 - val_acc: 0.9414\n",
      "Epoch 3/25\n",
      "37/37 [==============================] - 11s 301ms/step - loss: 0.1854 - acc: 0.9429 - val_loss: 0.1967 - val_acc: 0.9410\n",
      "Epoch 4/25\n",
      "37/37 [==============================] - 12s 327ms/step - loss: 0.1737 - acc: 0.9465 - val_loss: 0.1963 - val_acc: 0.9405\n",
      "Epoch 5/25\n",
      "37/37 [==============================] - 15s 393ms/step - loss: 0.1528 - acc: 0.9538 - val_loss: 0.1856 - val_acc: 0.9429\n",
      "Epoch 6/25\n",
      "37/37 [==============================] - 12s 313ms/step - loss: 0.1384 - acc: 0.9584 - val_loss: 0.1739 - val_acc: 0.9477\n",
      "Epoch 7/25\n",
      "37/37 [==============================] - 14s 366ms/step - loss: 0.1165 - acc: 0.9672 - val_loss: 0.1965 - val_acc: 0.9453\n",
      "Epoch 8/25\n",
      "37/37 [==============================] - 12s 314ms/step - loss: 0.1042 - acc: 0.9700 - val_loss: 0.1783 - val_acc: 0.9476\n",
      "Epoch 9/25\n",
      "37/37 [==============================] - 15s 388ms/step - loss: 0.0905 - acc: 0.9732 - val_loss: 0.1810 - val_acc: 0.9478\n",
      "Epoch 10/25\n",
      "37/37 [==============================] - 12s 327ms/step - loss: 0.0737 - acc: 0.9804 - val_loss: 0.1817 - val_acc: 0.9502\n",
      "Epoch 11/25\n",
      "37/37 [==============================] - 12s 305ms/step - loss: 0.0584 - acc: 0.9838 - val_loss: 0.1864 - val_acc: 0.9531\n",
      "Epoch 12/25\n",
      "37/37 [==============================] - 12s 328ms/step - loss: 0.0529 - acc: 0.9862 - val_loss: 0.2027 - val_acc: 0.9516\n",
      "Epoch 13/25\n",
      "37/37 [==============================] - 14s 387ms/step - loss: 0.0487 - acc: 0.9877 - val_loss: 0.2218 - val_acc: 0.9515\n",
      "Epoch 14/25\n",
      "37/37 [==============================] - 11s 300ms/step - loss: 0.0380 - acc: 0.9917 - val_loss: 0.2358 - val_acc: 0.9541\n",
      "Epoch 15/25\n",
      "37/37 [==============================] - 11s 296ms/step - loss: 0.0370 - acc: 0.9927 - val_loss: 0.2416 - val_acc: 0.9565\n",
      "Epoch 16/25\n",
      "37/37 [==============================] - 12s 315ms/step - loss: 0.0325 - acc: 0.9939 - val_loss: 0.2573 - val_acc: 0.9579\n",
      "Epoch 17/25\n",
      "37/37 [==============================] - 11s 283ms/step - loss: 0.0412 - acc: 0.9937 - val_loss: 0.2967 - val_acc: 0.9543\n",
      "Epoch 18/25\n",
      "37/37 [==============================] - 11s 303ms/step - loss: 0.0463 - acc: 0.9923 - val_loss: 0.2526 - val_acc: 0.9592\n",
      "Epoch 19/25\n",
      "37/37 [==============================] - 12s 317ms/step - loss: 0.0272 - acc: 0.9959 - val_loss: 0.2648 - val_acc: 0.9620\n",
      "Epoch 20/25\n",
      "37/37 [==============================] - 11s 298ms/step - loss: 0.0242 - acc: 0.9966 - val_loss: 0.2995 - val_acc: 0.9614\n",
      "Epoch 21/25\n",
      "37/37 [==============================] - 12s 311ms/step - loss: 0.0221 - acc: 0.9984 - val_loss: 0.3204 - val_acc: 0.9594\n",
      "Epoch 22/25\n",
      "37/37 [==============================] - 11s 297ms/step - loss: 0.0225 - acc: 0.9985 - val_loss: 0.3110 - val_acc: 0.9627\n",
      "Epoch 23/25\n",
      "37/37 [==============================] - 12s 312ms/step - loss: 0.0233 - acc: 0.9984 - val_loss: 0.3856 - val_acc: 0.9580\n",
      "Epoch 24/25\n",
      "37/37 [==============================] - 11s 304ms/step - loss: 0.0393 - acc: 0.9968 - val_loss: 0.4763 - val_acc: 0.9537\n",
      "Epoch 25/25\n",
      "37/37 [==============================] - 11s 301ms/step - loss: 0.0352 - acc: 0.9975 - val_loss: 0.3417 - val_acc: 0.9636\n"
     ]
    },
    {
     "data": {
      "text/plain": [
       "<keras.src.callbacks.History at 0x201d7203070>"
      ]
     },
     "execution_count": 24,
     "metadata": {},
     "output_type": "execute_result"
    }
   ],
   "source": [
    "epochs = 25\n",
    "\n",
    "callbacks = [\n",
    "    keras.callbacks.ModelCheckpoint(\"save_{epoch}.keras\")\n",
    "]\n",
    "\n",
    "model.compile(\n",
    "    optimizer=keras.optimizers.Adam(),\n",
    "    loss=keras.losses.BinaryCrossentropy(),\n",
    "    metrics=[keras.metrics.BinaryAccuracy(name=\"acc\")]\n",
    ")\n",
    "\n",
    "model.fit(\n",
    "    train_ds,\n",
    "    epochs=epochs,\n",
    "    callbacks=callbacks,\n",
    "    validation_data=test_ds\n",
    ")"
   ]
  }
 ],
 "metadata": {
  "kernelspec": {
   "display_name": "d2l",
   "language": "python",
   "name": "python3"
  },
  "language_info": {
   "codemirror_mode": {
    "name": "ipython",
    "version": 3
   },
   "file_extension": ".py",
   "mimetype": "text/x-python",
   "name": "python",
   "nbconvert_exporter": "python",
   "pygments_lexer": "ipython3",
   "version": "3.9.13"
  }
 },
 "nbformat": 4,
 "nbformat_minor": 2
}
