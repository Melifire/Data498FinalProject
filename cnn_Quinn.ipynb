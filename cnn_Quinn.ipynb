{
 "cells": [
  {
   "cell_type": "code",
   "execution_count": 4,
   "metadata": {},
   "outputs": [],
   "source": [
    "\n",
    "import matplotlib.pyplot as plt \n",
    "import tensorflow as tf \n",
    "import pandas as pd \n",
    "import numpy as np \n",
    "  \n",
    "import warnings \n",
    "warnings.filterwarnings('ignore') \n",
    "  \n",
    "from tensorflow import keras \n",
    "from keras import layers \n",
    "from tensorflow.keras.models import Sequential \n",
    "from tensorflow.keras.layers import Activation, Dropout, Flatten, Dense \n",
    "from tensorflow.keras.layers import Conv2D, MaxPooling2D \n",
    "from tensorflow.keras.utils import image_dataset_from_directory \n",
    "from tensorflow.keras.preprocessing.image import ImageDataGenerator, load_img \n",
    "from tensorflow.keras.preprocessing import image_dataset_from_directory \n",
    "  \n",
    "import os \n",
    "import matplotlib.image as mpimg"
   ]
  },
  {
   "cell_type": "code",
   "execution_count": null,
   "metadata": {},
   "outputs": [],
   "source": [
    "bear_dir = os.path.join('animal_data/Bear')\n",
    "bird_dir = os.path.join('animal_data/Bird')\n",
    "cat_dir = os.path.join('animal_data/Cat')\n",
    "cow_dir = os.path.join('animal_data/Cow')\n",
    "deer_dir = os.path.join('animal_data/Deer')\n",
    "dog_dir = os.path.join('animal_data/Dog')\n",
    "dolphin_dir = os.path.join('animal_data/Dolphin')\n",
    "elephant_dir = os.path.join('animal_data/Elephant')\n",
    "giraffe_dir = os.path.join('animal_data/Giraffe')\n",
    "horse_dir = os.path.join('animal_data/Horse')\n",
    "kangaroo_dir = os.path.join('animal_data/kangaroo')\n",
    "lion_dir = os.path.join('animal_data/Lion')\n",
    "panda_dir = os.path.join('animal_data/Panda')\n",
    "tiger_dir = os.path.join('animal_data/Tiger')\n",
    "zebra_dir = os.path.join('animal_data/Zebra')"
   ]
  }
 ],
 "metadata": {
  "kernelspec": {
   "display_name": "base",
   "language": "python",
   "name": "python3"
  },
  "language_info": {
   "codemirror_mode": {
    "name": "ipython",
    "version": 3
   },
   "file_extension": ".py",
   "mimetype": "text/x-python",
   "name": "python",
   "nbconvert_exporter": "python",
   "pygments_lexer": "ipython3",
   "version": "3.9.13"
  }
 },
 "nbformat": 4,
 "nbformat_minor": 2
}
